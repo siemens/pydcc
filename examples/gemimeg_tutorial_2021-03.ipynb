{
 "metadata": {
  "language_info": {
   "codemirror_mode": {
    "name": "ipython",
    "version": 3
   },
   "file_extension": ".py",
   "mimetype": "text/x-python",
   "name": "python",
   "nbconvert_exporter": "python",
   "pygments_lexer": "ipython3",
   "version": "3.7.3-final"
  },
  "orig_nbformat": 2,
  "kernelspec": {
   "name": "python3",
   "display_name": "Python 3",
   "language": "python"
  }
 },
 "nbformat": 4,
 "nbformat_minor": 2,
 "cells": [
  {
   "cell_type": "code",
   "execution_count": 13,
   "metadata": {},
   "outputs": [],
   "source": [
    "# PyDCC\n",
    "#\n",
    "# Example introduction to PyDCC for GEMIMEG-II project members in March 2021\n",
    "#\n",
    "# Copyright (c) Siemens AG, 2021\n",
    "#\n",
    "# Authors:\n",
    "#  Andreas Tobola <andreas.tobola@siemens.com>\n",
    "#\n",
    "# This work is licensed under the terms of the MIT License.\n",
    "# See the LICENSE file in the top-level directory.\n",
    "#\n",
    "import sys\n",
    "sys.path.append(\"../src/\")\n",
    "import dcc"
   ]
  },
  {
   "cell_type": "code",
   "execution_count": 14,
   "metadata": {},
   "outputs": [],
   "source": [
    "xml_file_name = '../data/dcc/siliziumkugel_2_4_0.xml' \n",
    "dcco = dcc.dcc(xml_file_name) "
   ]
  },
  {
   "cell_type": "code",
   "execution_count": 15,
   "metadata": {},
   "outputs": [
    {
     "output_type": "stream",
     "name": "stdout",
     "text": [
      "DCC UID: PTB - 11129 18\n"
     ]
    }
   ],
   "source": [
    "uid = dcco.uid()\n",
    "print('DCC UID: %s' % uid)"
   ]
  },
  {
   "cell_type": "code",
   "execution_count": 16,
   "metadata": {},
   "outputs": [
    {
     "output_type": "stream",
     "name": "stdout",
     "text": [
      "Calibration date: 12. October 2018\n"
     ]
    }
   ],
   "source": [
    "calib_date = dcco.calibration_date()\n",
    "print('Calibration date: %s' % calib_date.strftime(\"%d. %B %Y\") )\n"
   ]
  },
  {
   "cell_type": "code",
   "execution_count": 17,
   "metadata": {},
   "outputs": [
    {
     "output_type": "stream",
     "name": "stdout",
     "text": [
      "929 days since calibration\n=> Recalibration required according to QMS.\n"
     ]
    }
   ],
   "source": [
    "days_since_calibration = dcco.days_since_calibration()\n",
    "print('%d days since calibration' % days_since_calibration)\n",
    "if (days_since_calibration > 365):\n",
    "    print('=> Recalibration required according to QMS.')"
   ]
  },
  {
   "cell_type": "code",
   "execution_count": 18,
   "metadata": {},
   "outputs": [
    {
     "output_type": "stream",
     "name": "stdout",
     "text": [
      "DCC is not signed.\n"
     ]
    }
   ],
   "source": [
    "if dcco.is_signed():\n",
    "    print('Signature available.')\n",
    "    if dcco.is_signature_valid():\n",
    "        print('Signature is valid.')\n",
    "    else:\n",
    "        print('Signature could not be verified.')\n",
    "else:\n",
    "    print('DCC is not signed.')"
   ]
  }
 ]
}