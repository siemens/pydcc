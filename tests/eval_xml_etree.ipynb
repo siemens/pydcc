{
 "cells": [
  {
   "cell_type": "code",
   "execution_count": 1,
   "metadata": {},
   "outputs": [],
   "source": [
    "# Unit tests for PyDCC\n",
    "#\n",
    "# Python module for processing of digital calibration certificates (DCC)\n",
    "# according to https://www.ptb.de/dcc/\n",
    "#\n",
    "# Copyright (c) Siemens AG, 2021\n",
    "#\n",
    "# Authors:\n",
    "#  Andreas Tobola <andreas.tobola@siemens.com>\n",
    "#\n",
    "# This work is licensed under the terms of the MIT License. \n",
    "# See the LICENSEle in the top-level directory.\n",
    "#\n"
   ]
  },
  {
   "cell_type": "code",
   "execution_count": 1,
   "metadata": {},
   "outputs": [],
   "source": [
    "import xml.etree.ElementTree as ET"
   ]
  },
  {
   "cell_type": "code",
   "execution_count": 2,
   "metadata": {},
   "outputs": [],
   "source": [
    "dcc_file_path = '../data/dcc/siliziumkugel_2_4_0.xml'\n",
    "tree = ET.parse(dcc_file_path)"
   ]
  },
  {
   "cell_type": "code",
   "execution_count": 3,
   "metadata": {},
   "outputs": [],
   "source": [
    "root = tree.getroot()"
   ]
  },
  {
   "cell_type": "code",
   "execution_count": 4,
   "metadata": {},
   "outputs": [
    {
     "data": {
      "text/plain": [
       "<Element '{https://ptb.de/dcc}digitalCalibrationCertificate' at 0x000001D06D983C20>"
      ]
     },
     "execution_count": 4,
     "metadata": {},
     "output_type": "execute_result"
    }
   ],
   "source": [
    "root"
   ]
  },
  {
   "cell_type": "code",
   "execution_count": 6,
   "metadata": {},
   "outputs": [
    {
     "name": "stdout",
     "output_type": "stream",
     "text": [
      "{https://ptb.de/dcc}administrativeData\n",
      "{https://ptb.de/dcc}measurementResults\n"
     ]
    }
   ],
   "source": [
    "for child in root:\n",
    "     print(child.tag)\n",
    "\n",
    "administrativeData = root[0]\n",
    "measurementResults = root[1]"
   ]
  },
  {
   "cell_type": "code",
   "execution_count": 7,
   "metadata": {},
   "outputs": [
    {
     "name": "stdout",
     "output_type": "stream",
     "text": [
      "<Element '{https://ptb.de/dcc}administrativeData' at 0x000001D9CAA3E778>\n",
      "{https://ptb.de/dcc}dccSoftware\n",
      "{https://ptb.de/dcc}coreData\n",
      "{https://ptb.de/dcc}items\n",
      "{https://ptb.de/dcc}calibrationLaboratory\n",
      "{https://ptb.de/dcc}respPersons\n",
      "{https://ptb.de/dcc}customer\n",
      "{https://ptb.de/dcc}statements\n"
     ]
    }
   ],
   "source": [
    "print(administrativeData)\n",
    "\n",
    "for child in administrativeData:\n",
    "     print(child.tag)\n"
   ]
  },
  {
   "cell_type": "code",
   "execution_count": 8,
   "metadata": {},
   "outputs": [
    {
     "name": "stdout",
     "output_type": "stream",
     "text": [
      "<Element '{https://ptb.de/dcc}measurementResults' at 0x000001D9CAA7B3B8>\n",
      "{https://ptb.de/dcc}usedMethods\n",
      "{https://ptb.de/dcc}influenceConditions\n",
      "{https://ptb.de/dcc}results\n"
     ]
    }
   ],
   "source": [
    "print(measurementResults)\n",
    "\n",
    "for child in measurementResults[0]:\n",
    "     print(child.tag)"
   ]
  },
  {
   "cell_type": "code",
   "execution_count": 9,
   "metadata": {},
   "outputs": [
    {
     "name": "stdout",
     "output_type": "stream",
     "text": [
      "2018-10-12\n"
     ]
    }
   ],
   "source": [
    "elem = root.findall(\"./{https://ptb.de/dcc}administrativeData/{https://ptb.de/dcc}coreData/{https://ptb.de/dcc}endPerformanceDate\")\n",
    "print(elem[0].text)"
   ]
  },
  {
   "cell_type": "code",
   "execution_count": 10,
   "metadata": {},
   "outputs": [
    {
     "name": "stdout",
     "output_type": "stream",
     "text": [
      "2018-10-12\n"
     ]
    }
   ],
   "source": [
    "name_space = {'dcc': 'https://ptb.de/dcc'}\n",
    "elem = root.find(\"dcc:administrativeData/dcc:coreData/dcc:endPerformanceDate\", name_space)\n",
    "print(elem.text)"
   ]
  },
  {
   "cell_type": "code",
   "execution_count": 11,
   "metadata": {},
   "outputs": [
    {
     "data": {
      "text/plain": [
       "'2.4.0'"
      ]
     },
     "execution_count": 11,
     "metadata": {},
     "output_type": "execute_result"
    }
   ],
   "source": [
    "\n",
    "root.attrib['schemaVersion']\n",
    "\n"
   ]
  },
  {
   "cell_type": "code",
   "execution_count": 12,
   "metadata": {},
   "outputs": [
    {
     "data": {
      "text/plain": [
       "{'{http://www.w3.org/2001/XMLSchema-instance}schemaLocation': 'https://ptb.de/dcc https://ptb.de/dcc/v2.4.0/dcc.xsd',\n",
       " 'schemaVersion': '2.4.0'}"
      ]
     },
     "execution_count": 12,
     "metadata": {},
     "output_type": "execute_result"
    }
   ],
   "source": [
    "root.attrib"
   ]
  },
  {
   "cell_type": "code",
   "execution_count": 13,
   "metadata": {},
   "outputs": [
    {
     "name": "stdout",
     "output_type": "stream",
     "text": [
      "{http://www.w3.org/2001/XMLSchema-instance}schemaLocation\n",
      "schemaVersion\n"
     ]
    }
   ],
   "source": [
    "for attrib in root.attrib:\n",
    "    print(attrib)"
   ]
  },
  {
   "cell_type": "code",
   "execution_count": 16,
   "metadata": {},
   "outputs": [
    {
     "ename": "NameError",
     "evalue": "name 'self' is not defined",
     "output_type": "error",
     "traceback": [
      "\u001b[1;31m---------------------------------------------------------------------------\u001b[0m",
      "\u001b[1;31mNameError\u001b[0m                                 Traceback (most recent call last)",
      "\u001b[1;32m<ipython-input-16-a834084fae78>\u001b[0m in \u001b[0;36m<module>\u001b[1;34m\u001b[0m\n\u001b[1;32m----> 1\u001b[1;33m \u001b[0madministrative_data\u001b[0m \u001b[1;33m=\u001b[0m \u001b[0mroot\u001b[0m\u001b[1;33m.\u001b[0m\u001b[0mfind\u001b[0m\u001b[1;33m(\u001b[0m\u001b[1;34m\"dcc:administrativeData\"\u001b[0m\u001b[1;33m,\u001b[0m \u001b[0mself\u001b[0m\u001b[1;33m.\u001b[0m\u001b[0mname_space\u001b[0m\u001b[1;33m)\u001b[0m\u001b[1;33m\u001b[0m\u001b[1;33m\u001b[0m\u001b[0m\n\u001b[0m",
      "\u001b[1;31mNameError\u001b[0m: name 'self' is not defined"
     ]
    }
   ],
   "source": [
    "administrative_data = root.find(\"dcc:administrativeData\", self.name_space)"
   ]
  },
  {
   "cell_type": "code",
   "execution_count": 40,
   "metadata": {},
   "outputs": [],
   "source": []
  },
  {
   "cell_type": "code",
   "execution_count": 41,
   "metadata": {},
   "outputs": [
    {
     "name": "stdout",
     "output_type": "stream",
     "text": [
      "<Element '{https://ptb.de/dcc}administrativeData' at 0x000002745EBF11D8>\n"
     ]
    }
   ],
   "source": [
    "print(administrative_data)"
   ]
  },
  {
   "cell_type": "code",
   "execution_count": null,
   "metadata": {},
   "outputs": [],
   "source": [
    "        #for child in self.administrative_data:\n",
    "        #    print(child.tag)\n",
    "        #    print(child.tag.find(\"coreData\") )\n",
    "        #    if child.tag.find(\"coreData\") > -1:\n",
    "        #        print(\"*\")\n",
    "        #for child in self.measurement_results[0]:\n",
    "        #    print(child.tag)"
   ]
  },
  {
   "cell_type": "code",
   "execution_count": 17,
   "metadata": {},
   "outputs": [
    {
     "name": "stdout",
     "output_type": "stream",
     "text": [
      "Masse\n",
      "1.00007841\n",
      "0.00000005\n",
      "Volumen\n",
      "431.055119\n",
      "0.000018\n",
      "[['Masse', '0.00000005'], ['Volumen', '0.000018']]\n"
     ]
    }
   ],
   "source": [
    "name_space = {'dcc': 'https://ptb.de/dcc',  'si':'https://ptb.de/si'}\n",
    "results = root.find(\"dcc:measurementResults/dcc:measurementResult/dcc:results\", name_space)\n",
    "unc_list = []\n",
    "for result in results:\n",
    "    result_name = result.find(\"dcc:name/dcc:content\", name_space)\n",
    "    result_data_list = result.find(\"dcc:data/dcc:list\", name_space)\n",
    "    print(result_name.text)\n",
    "    for result_data in result_data_list:\n",
    "        real_val = result_data.find(\"si:real/si:value\", name_space)\n",
    "        unc = result_data.find(\"si:real/si:expandedUnc/si:uncertainty\", name_space)\n",
    "        if not real_val == None:\n",
    "            print(real_val.text)\n",
    "            print(unc.text)\n",
    "            unc_list.append([result_name.text, unc.text]) \n",
    "\n",
    "print(unc_list)"
   ]
  },
  {
   "cell_type": "code",
   "execution_count": null,
   "metadata": {},
   "outputs": [],
   "source": []
  }
 ],
 "metadata": {
  "kernelspec": {
   "display_name": ".venv",
   "language": "python",
   "name": ".venv"
  },
  "language_info": {
   "codemirror_mode": {
    "name": "ipython",
    "version": 3
   },
   "file_extension": ".py",
   "mimetype": "text/x-python",
   "name": "python",
   "nbconvert_exporter": "python",
   "pygments_lexer": "ipython3",
   "version": "3.8.3"
  }
 },
 "nbformat": 4,
 "nbformat_minor": 2
}
