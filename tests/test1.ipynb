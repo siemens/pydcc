{
 "metadata": {
  "language_info": {
   "codemirror_mode": {
    "name": "ipython",
    "version": 3
   },
   "file_extension": ".py",
   "mimetype": "text/x-python",
   "name": "python",
   "nbconvert_exporter": "python",
   "pygments_lexer": "ipython3",
   "version": "3.7.3-final"
  },
  "orig_nbformat": 2,
  "kernelspec": {
   "name": "python3",
   "display_name": "Python 3",
   "language": "python"
  }
 },
 "nbformat": 4,
 "nbformat_minor": 2,
 "cells": [
  {
   "cell_type": "code",
   "execution_count": 1,
   "metadata": {},
   "outputs": [],
   "source": [
    "# Unit tests for PyDCC\n",
    "#\n",
    "# Python module for processing of digital calibration certificates (DCC)\n",
    "# according to https://www.ptb.de/dcc/\n",
    "#\n",
    "# Copyright (c) Siemens AG, 2021\n",
    "#\n",
    "# Authors:\n",
    "#  Andreas Tobola <andreas.tobola@siemens.com>\n",
    "#\n",
    "# This work is licensed under the terms of the MIT license. \n",
    "# See the LICENSEle in the top-level directory.\n",
    "#\n"
   ]
  },
  {
   "cell_type": "code",
   "execution_count": 2,
   "metadata": {},
   "outputs": [],
   "source": [
    "import xml.etree.ElementTree as ET"
   ]
  },
  {
   "cell_type": "code",
   "execution_count": 3,
   "metadata": {},
   "outputs": [],
   "source": [
    "tree = ET.parse('../data/siliziumkugel.xml')"
   ]
  },
  {
   "cell_type": "code",
   "execution_count": 4,
   "metadata": {},
   "outputs": [],
   "source": [
    "root = tree.getroot()"
   ]
  },
  {
   "cell_type": "code",
   "execution_count": 5,
   "metadata": {},
   "outputs": [
    {
     "output_type": "execute_result",
     "data": {
      "text/plain": [
       "<Element '{https://ptb.de/dcc}digitalCalibrationCertificate' at 0x000001DCEA06C228>"
      ]
     },
     "metadata": {},
     "execution_count": 5
    }
   ],
   "source": [
    "root"
   ]
  },
  {
   "cell_type": "code",
   "execution_count": 6,
   "metadata": {},
   "outputs": [
    {
     "output_type": "error",
     "ename": "ParseError",
     "evalue": "syntax error: line 1, column 0 (<string>)",
     "traceback": [
      "Traceback \u001b[1;36m(most recent call last)\u001b[0m:\n",
      "  File \u001b[0;32m\"C:\\Users\\z00133dh\\AppData\\Local\\Continuum\\anaconda3\\lib\\site-packages\\IPython\\core\\interactiveshell.py\"\u001b[0m, line \u001b[0;32m3325\u001b[0m, in \u001b[0;35mrun_code\u001b[0m\n    exec(code_obj, self.user_global_ns, self.user_ns)\n",
      "  File \u001b[0;32m\"<ipython-input-6-1d8039ba2e63>\"\u001b[0m, line \u001b[0;32m1\u001b[0m, in \u001b[0;35m<module>\u001b[0m\n    root = ET.fromstring(\"administrativeData\")\n",
      "\u001b[1;36m  File \u001b[1;32m\"C:\\Users\\z00133dh\\AppData\\Local\\Continuum\\anaconda3\\lib\\xml\\etree\\ElementTree.py\"\u001b[1;36m, line \u001b[1;32m1316\u001b[1;36m, in \u001b[1;35mXML\u001b[1;36m\u001b[0m\n\u001b[1;33m    return parser.close()\u001b[0m\n",
      "\u001b[1;36m  File \u001b[1;32m\"<string>\"\u001b[1;36m, line \u001b[1;32munknown\u001b[0m\n\u001b[1;31mParseError\u001b[0m\u001b[1;31m:\u001b[0m syntax error: line 1, column 0\n"
     ]
    }
   ],
   "source": [
    "root = ET.fromstring(\"administrativeData\")"
   ]
  },
  {
   "cell_type": "code",
   "execution_count": 7,
   "metadata": {},
   "outputs": [
    {
     "output_type": "stream",
     "name": "stdout",
     "text": [
      "{https://ptb.de/dcc}administrativeData\n{https://ptb.de/dcc}measurementResults\n"
     ]
    }
   ],
   "source": [
    "for child in root:\n",
    "     print(child.tag)\n",
    "\n",
    "administrativeData = root[0]\n",
    "measurementResults = root[1]"
   ]
  },
  {
   "cell_type": "code",
   "execution_count": 37,
   "metadata": {},
   "outputs": [
    {
     "output_type": "stream",
     "name": "stdout",
     "text": [
      "<Element '{https://ptb.de/dcc}administrativeData' at 0x000002051B68D728>\n{https://ptb.de/dcc}dccSoftware\n{https://ptb.de/dcc}coreData\n{https://ptb.de/dcc}items\n{https://ptb.de/dcc}calibrationLaboratory\n{https://ptb.de/dcc}respPersons\n{https://ptb.de/dcc}customer\n{https://ptb.de/dcc}statements\n"
     ]
    }
   ],
   "source": [
    "print(administrativeData)\n",
    "\n",
    "for child in administrativeData:\n",
    "     print(child.tag)\n"
   ]
  },
  {
   "cell_type": "code",
   "execution_count": 42,
   "metadata": {},
   "outputs": [
    {
     "output_type": "stream",
     "name": "stdout",
     "text": [
      "<Element '{https://ptb.de/dcc}measurementResults' at 0x000002051B73CE58>\n{https://ptb.de/dcc}usedMethods\n{https://ptb.de/dcc}influenceConditions\n{https://ptb.de/dcc}results\n"
     ]
    }
   ],
   "source": [
    "print(measurementResults)\n",
    "\n",
    "for child in measurementResults[0]:\n",
    "     print(child.tag)"
   ]
  },
  {
   "cell_type": "code",
   "execution_count": 102,
   "metadata": {},
   "outputs": [
    {
     "output_type": "stream",
     "name": "stdout",
     "text": [
      "2018-10-12\n"
     ]
    }
   ],
   "source": [
    "elem = root.findall(\"./{https://ptb.de/dcc}administrativeData/{https://ptb.de/dcc}coreData/{https://ptb.de/dcc}endPerformanceDate\")\n",
    "print(elem[0].text)"
   ]
  },
  {
   "cell_type": "code",
   "execution_count": null,
   "metadata": {},
   "outputs": [],
   "source": []
  }
 ]
}