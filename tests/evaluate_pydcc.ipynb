{
 "metadata": {
  "language_info": {
   "codemirror_mode": {
    "name": "ipython",
    "version": 3
   },
   "file_extension": ".py",
   "mimetype": "text/x-python",
   "name": "python",
   "nbconvert_exporter": "python",
   "pygments_lexer": "ipython3",
   "version": "3.7.3-final"
  },
  "orig_nbformat": 2,
  "kernelspec": {
   "name": "python3",
   "display_name": "Python 3",
   "language": "python"
  }
 },
 "nbformat": 4,
 "nbformat_minor": 2,
 "cells": [
  {
   "cell_type": "code",
   "execution_count": 4,
   "metadata": {},
   "outputs": [],
   "source": [
    "import sys\n",
    "sys.path.append(\"../src/\")"
   ]
  },
  {
   "cell_type": "code",
   "execution_count": 5,
   "metadata": {},
   "outputs": [],
   "source": [
    "import dcc"
   ]
  },
  {
   "cell_type": "code",
   "execution_count": 6,
   "metadata": {},
   "outputs": [
    {
     "output_type": "stream",
     "name": "stdout",
     "text": [
      "{https://ptb.de/dcc}dccSoftware\n{https://ptb.de/dcc}coreData\n{https://ptb.de/dcc}items\n{https://ptb.de/dcc}calibrationLaboratory\n{https://ptb.de/dcc}respPersons\n{https://ptb.de/dcc}customer\n{https://ptb.de/dcc}statements\n{https://ptb.de/dcc}usedMethods\n{https://ptb.de/dcc}influenceConditions\n{https://ptb.de/dcc}results\n"
     ]
    }
   ],
   "source": [
    "xml_file_name = '../data/siliziumkugel.xml'\n",
    "dcci = dcc.dcc(xml_file_name)\n",
    "\n"
   ]
  }
 ]
}