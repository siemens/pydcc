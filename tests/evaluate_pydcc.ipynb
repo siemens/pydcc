{
 "metadata": {
  "language_info": {
   "codemirror_mode": {
    "name": "ipython",
    "version": 3
   },
   "file_extension": ".py",
   "mimetype": "text/x-python",
   "name": "python",
   "nbconvert_exporter": "python",
   "pygments_lexer": "ipython3",
   "version": "3.7.3-final"
  },
  "orig_nbformat": 2,
  "kernelspec": {
   "name": "python3",
   "display_name": "Python 3",
   "language": "python"
  }
 },
 "nbformat": 4,
 "nbformat_minor": 2,
 "cells": [
  {
   "cell_type": "code",
   "execution_count": 52,
   "metadata": {},
   "outputs": [],
   "source": [
    "# PyDCC\n",
    "#\n",
    "# Python module for processing of digital calibration certificates (DCC)\n",
    "# according to https://www.ptb.de/dcc/\n",
    "#\n",
    "# Copyright (c) Siemens AG, 2021\n",
    "#\n",
    "# Authors:\n",
    "#  Andreas Tobola <andreas.tobola@siemens.com>\n",
    "#\n",
    "# This work is licensed under the terms of the MIT License. \n",
    "# See the LICENSE file in the top-level directory.\n",
    "#"
   ]
  },
  {
   "cell_type": "code",
   "execution_count": 53,
   "metadata": {},
   "outputs": [],
   "source": [
    "\n",
    "import sys\n",
    "sys.path.append(\"../src/\")"
   ]
  },
  {
   "cell_type": "code",
   "execution_count": 54,
   "metadata": {},
   "outputs": [],
   "source": [
    "import dcc"
   ]
  },
  {
   "cell_type": "code",
   "execution_count": 56,
   "metadata": {},
   "outputs": [
    {
     "output_type": "stream",
     "name": "stdout",
     "text": [
      "Calibration date: 12. October 2018\n928 days since calibration\nDCC UID: PTB - 11129 18\n=> Recalibration required according to QMS.\nDCC is not signed.\nMasse: 0.00000005\nVolumen: 0.00001800\n"
     ]
    }
   ],
   "source": [
    "xml_file_name = '../data/dcc/siliziumkugel_2_4_0.xml' # Example from PTB\n",
    "dcco = dcc.dcc(xml_file_name) # Load DCC and crate DCC object\n",
    "#try:\n",
    "    #if dcco.verify_dcc_xml():\n",
    "    #    print(\"XML schema is valid.\")\n",
    "    #else:\n",
    "    #    print(\"XML schema is invalid.\")\n",
    "#except Exception as inst:\n",
    "#    print(\"XML schema not verified.\")\n",
    "\n",
    "calib_date = dcco.calibration_date()\n",
    "print('Calibration date: %s' % calib_date.strftime(\"%d. %B %Y\") )\n",
    "days_since_calibration = dcco.days_since_calibration()\n",
    "print('%d days since calibration' % days_since_calibration)\n",
    "uid = dcco.uid()\n",
    "print('DCC UID: %s' % uid)\n",
    "\n",
    "if (days_since_calibration > 365):\n",
    "    print('=> Recalibration required according to QMS.')\n",
    "\n",
    "if dcco.is_signed():\n",
    "    print('Signature available.')\n",
    "    if dcco.is_signature_valid():\n",
    "        print('Signature is valid.')\n",
    "    else:\n",
    "        print('Signature could not be verified.')\n",
    "else:\n",
    "    print('DCC is not signed.')\n",
    "\n",
    "uncertainty_list = dcco.uncertainty_list()\n",
    "for uncertainty in uncertainty_list:\n",
    "    uncertainty_label = uncertainty[0]\n",
    "    uncertainty_value = float(uncertainty[1])\n",
    "    print(\"%s: %.8f\" % (uncertainty_label, uncertainty_value) )\n",
    "\n"
   ]
  },
  {
   "cell_type": "code",
   "execution_count": null,
   "metadata": {},
   "outputs": [],
   "source": []
  }
 ]
}