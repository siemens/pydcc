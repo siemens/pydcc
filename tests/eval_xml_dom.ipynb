{
 "metadata": {
  "language_info": {
   "codemirror_mode": {
    "name": "ipython",
    "version": 3
   },
   "file_extension": ".py",
   "mimetype": "text/x-python",
   "name": "python",
   "nbconvert_exporter": "python",
   "pygments_lexer": "ipython3",
   "version": "3.7.3-final"
  },
  "orig_nbformat": 2,
  "kernelspec": {
   "name": "python3",
   "display_name": "Python 3",
   "language": "python"
  }
 },
 "nbformat": 4,
 "nbformat_minor": 2,
 "cells": [
  {
   "cell_type": "code",
   "execution_count": 1,
   "metadata": {},
   "outputs": [],
   "source": [
    "# Unit tests for PyDCC\n",
    "#\n",
    "# Python module for processing of digital calibration certificates (DCC)\n",
    "# according to https://www.ptb.de/dcc/\n",
    "#\n",
    "# Copyright (c) Siemens AG, 2021\n",
    "#\n",
    "# Authors:\n",
    "#  Andreas Tobola <andreas.tobola@siemens.com>\n",
    "#\n",
    "# This work is licensed under the terms of the MIT License. \n",
    "# See the LICENSEle in the top-level directory.\n",
    "#\n"
   ]
  },
  {
   "cell_type": "code",
   "execution_count": 2,
   "metadata": {},
   "outputs": [],
   "source": [
    "from xml.dom import minidom"
   ]
  },
  {
   "cell_type": "code",
   "execution_count": 3,
   "metadata": {},
   "outputs": [],
   "source": [
    "mydoc = minidom.parse('../data/siliziumkugel.xml')\n"
   ]
  },
  {
   "cell_type": "code",
   "execution_count": 4,
   "metadata": {},
   "outputs": [],
   "source": [
    "administrative_data = mydoc.getElementsByTagName('dcc:administrativeData')[0]\n",
    "measurement_data = mydoc.getElementsByTagName('dcc:measurementResults')[0]\n"
   ]
  },
  {
   "cell_type": "code",
   "execution_count": 5,
   "metadata": {},
   "outputs": [
    {
     "output_type": "stream",
     "name": "stdout",
     "text": [
      "<DOM Element: dcc:administrativeData at 0x1f1671be178>\n"
     ]
    }
   ],
   "source": [
    "print(administrative_data)"
   ]
  },
  {
   "cell_type": "code",
   "execution_count": 6,
   "metadata": {},
   "outputs": [
    {
     "output_type": "stream",
     "name": "stdout",
     "text": [
      "#text\ndcc:dccSoftware\n#text\ndcc:coreData\n#text\ndcc:items\n#text\ndcc:calibrationLaboratory\n#text\ndcc:respPersons\n#text\ndcc:customer\n#text\ndcc:statements\n#text\n"
     ]
    }
   ],
   "source": [
    "\n",
    "\n",
    "for child in administrative_data.childNodes:\n",
    "     print(child.nodeName)\n"
   ]
  },
  {
   "cell_type": "code",
   "execution_count": 7,
   "metadata": {},
   "outputs": [
    {
     "output_type": "stream",
     "name": "stdout",
     "text": [
      "dcc:calibrationLaboratory\n<DOM Element: dcc:contact at 0x1f1671e1f20>\n"
     ]
    }
   ],
   "source": [
    "calib_lab = mydoc.getElementsByTagName('dcc:calibrationLaboratory')[0]\n",
    "contact = calib_lab.getElementsByTagName('dcc:contact')[0]\n",
    "print(calib_lab.nodeName)\n",
    "print(contact)\n",
    "#     print(child)\n"
   ]
  },
  {
   "cell_type": "code",
   "execution_count": 8,
   "metadata": {},
   "outputs": [],
   "source": [
    "end_performance = mydoc.getElementsByTagName('dcc:endPerformanceDate')[0]\n"
   ]
  },
  {
   "cell_type": "code",
   "execution_count": null,
   "metadata": {},
   "outputs": [],
   "source": []
  }
 ]
}