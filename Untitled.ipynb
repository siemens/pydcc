{
 "cells": [
  {
   "cell_type": "code",
   "execution_count": 1,
   "id": "cf28906b",
   "metadata": {},
   "outputs": [],
   "source": [
    "from dcc import DCC\n",
    "from collections import defaultdict"
   ]
  },
  {
   "cell_type": "code",
   "execution_count": 2,
   "id": "3b8b93e5",
   "metadata": {},
   "outputs": [],
   "source": [
    "dcco = DCC('data/dcc/siliziumkugel_2_4_0.xml')"
   ]
  },
  {
   "cell_type": "code",
   "execution_count": 3,
   "id": "81fd1e2c",
   "metadata": {},
   "outputs": [
    {
     "data": {
      "text/plain": [
       "{'issuer': 'manufacturer',\n",
       " 'value': 'Si28kg_03_a',\n",
       " 'content (lang: de)': 'Kennnummer',\n",
       " 'content (lang: en)': 'Serial No.'}"
      ]
     },
     "execution_count": 3,
     "metadata": {},
     "output_type": "execute_result"
    }
   ],
   "source": [
    "dcco.item_id()"
   ]
  },
  {
   "cell_type": "code",
   "execution_count": 5,
   "id": "3a1ff71b",
   "metadata": {},
   "outputs": [],
   "source": [
    "item_list = dcco.root.find(\"dcc:administrativeData/dcc:items\", dcco.name_space)\n",
    "elem_dict = {}\n",
    "# iterate through individual items and subelements and return identification type with value\n",
    "for elem in item_list.iter(tag='{' + dcco.name_space['dcc'] + '}' + 'identifications'):\n",
    "    for subelem in elem.iter():\n",
    "        textpart = subelem.text\n",
    "        if textpart.strip():\n",
    "            # checks if additional attributes like language are available and adds it to result list\n",
    "            if subelem.attrib:\n",
    "                if subelem.tag.rpartition('/')[2].replace('}', ':') in elem_dict.keys():\n",
    "                    elem_dict[subelem.tag.rpartition('/')[2].replace('}', ':')] += [{'#text':textpart, subelem.items()[0][0]:subelem.items()[0][1]}]\n",
    "                else:\n",
    "                    elem_dict[subelem.tag.rpartition('/')[2].replace('}', ':')] = [{'#text':textpart, subelem.items()[0][0]:subelem.items()[0][1]}]\n",
    "            else:\n",
    "                elem_dict[subelem.tag.rpartition('/')[2].replace('}', ':')] = textpart\n",
    "        else:\n",
    "            temp_dict = elem_dict\n",
    "            elem_dict = {subelem.tag.rpartition('/')[2].replace('}', ':'):temp_dict}"
   ]
  },
  {
   "cell_type": "code",
   "execution_count": 37,
   "id": "2b728b03",
   "metadata": {},
   "outputs": [
    {
     "data": {
      "text/plain": [
       "('{https://ptb.de', '/', 'dcc}content')"
      ]
     },
     "execution_count": 37,
     "metadata": {},
     "output_type": "execute_result"
    }
   ],
   "source": [
    "subelem.tag.rpartition('/')"
   ]
  },
  {
   "cell_type": "code",
   "execution_count": 17,
   "id": "e19eb92b",
   "metadata": {},
   "outputs": [
    {
     "data": {
      "text/plain": [
       "{'dcc': 'https://ptb.de/dcc',\n",
       " 'si': 'https://ptb.de/si',\n",
       " 'ds': 'http://www.w3.org/2000/09/xmldsig#'}"
      ]
     },
     "execution_count": 17,
     "metadata": {},
     "output_type": "execute_result"
    }
   ],
   "source": [
    "dcco.name_space"
   ]
  },
  {
   "cell_type": "code",
   "execution_count": 33,
   "id": "907d4985",
   "metadata": {},
   "outputs": [
    {
     "data": {
      "text/plain": [
       "{'dcc:description': {'dcc:identification': {'dcc:identifications': {}},\n",
       "  'dcc:issuer': 'manufacturer',\n",
       "  'dcc:value': 'Si28kg_03_a'},\n",
       " 'dcc:content': [{'#text': 'Kennnummer', 'lang': 'de'},\n",
       "  {'#text': 'Serial No.', 'lang': 'en'}]}"
      ]
     },
     "execution_count": 33,
     "metadata": {},
     "output_type": "execute_result"
    }
   ],
   "source": [
    "elem_dict"
   ]
  },
  {
   "cell_type": "code",
   "execution_count": 11,
   "id": "9e462076",
   "metadata": {},
   "outputs": [
    {
     "name": "stdout",
     "output_type": "stream",
     "text": [
      "\n",
      "                    \n",
      "\n",
      "                        \n",
      "manufacturer\n",
      "Si28kg_03_a\n",
      "\n",
      "                            \n",
      "Kennnummer\n",
      "Serial No.\n"
     ]
    }
   ],
   "source": [
    "for elem in item_list.iter(tag='{' + dcco.name_space['dcc'] + '}' + 'identifications'):\n",
    "    for subelem in elem.iter():\n",
    "        print(subelem.text)"
   ]
  },
  {
   "cell_type": "code",
   "execution_count": 18,
   "id": "3f0e27c7",
   "metadata": {},
   "outputs": [],
   "source": [
    "def etree_to_dict(t):\n",
    "    tkey = t.tag.rpartition('}')[2]\n",
    "    d = {tkey: {} if t.attrib else None}\n",
    "    children = list(t)\n",
    "    if children:\n",
    "        dd = defaultdict(list)\n",
    "        for dc in map(etree_to_dict, children):\n",
    "            for k, v in dc.items():\n",
    "                dd[k].append(v)\n",
    "        d = {tkey: {k: v[0] if len(v) == 1 else v\n",
    "                     for k, v in dd.items()}}\n",
    "    if t.attrib:\n",
    "        d[tkey].update(('@' + k, v)\n",
    "                        for k, v in t.attrib.items())\n",
    "    if t.text:\n",
    "        text = t.text.strip()\n",
    "        if children or t.attrib:\n",
    "            if text:\n",
    "                d[tkey]['#text'] = text\n",
    "        else:\n",
    "            d[tkey] = text\n",
    "    return d"
   ]
  },
  {
   "cell_type": "code",
   "execution_count": 4,
   "id": "df2d1d9c",
   "metadata": {},
   "outputs": [],
   "source": [
    "import xml.etree.ElementTree as ET"
   ]
  },
  {
   "cell_type": "code",
   "execution_count": 15,
   "id": "71acebd6",
   "metadata": {},
   "outputs": [],
   "source": [
    "idxml = ET.XML('''<?xml version=\"1.0\" encoding=\"UTF-8\"?>\n",
    "<dcc:digitalCalibrationCertificate xmlns:dcc=\"https://ptb.de/dcc\">\n",
    "                <dcc:identifications>\n",
    "                    <dcc:identification>\n",
    "                        <dcc:issuer>manufacturer</dcc:issuer>\n",
    "                        <dcc:value>Si28kg_03_a</dcc:value>\n",
    "                        <dcc:description>\n",
    "                            <dcc:content lang=\"de\">Kennnummer</dcc:content>\n",
    "                            <dcc:content lang=\"en\">Serial No.</dcc:content>\n",
    "                        </dcc:description>\n",
    "                    </dcc:identification>\n",
    "                </dcc:identifications>\n",
    "</dcc:digitalCalibrationCertificate>''')"
   ]
  },
  {
   "cell_type": "code",
   "execution_count": 23,
   "id": "37476e58",
   "metadata": {},
   "outputs": [
    {
     "data": {
      "text/plain": [
       "[<Element '{https://ptb.de/dcc}identification' at 0x0000024E16E79220>]"
      ]
     },
     "execution_count": 23,
     "metadata": {},
     "output_type": "execute_result"
    }
   ],
   "source": [
    "list(list(idxml)[0])"
   ]
  },
  {
   "cell_type": "code",
   "execution_count": 21,
   "id": "043d989b",
   "metadata": {},
   "outputs": [
    {
     "data": {
      "text/plain": [
       "{'digitalCalibrationCertificate': {'identifications': {'identification': {'issuer': 'manufacturer',\n",
       "    'value': 'Si28kg_03_a',\n",
       "    'description': {'content': [{'@lang': 'de', '#text': 'Kennnummer'},\n",
       "      {'@lang': 'en', '#text': 'Serial No.'}]}}}}}"
      ]
     },
     "execution_count": 21,
     "metadata": {},
     "output_type": "execute_result"
    }
   ],
   "source": [
    "etree_to_dict(idxml)"
   ]
  },
  {
   "cell_type": "code",
   "execution_count": 34,
   "id": "999c90b5",
   "metadata": {},
   "outputs": [
    {
     "name": "stdout",
     "output_type": "stream",
     "text": [
      "<Element '{https://ptb.de/dcc}identifications' at 0x0000024E1635BF90>\n"
     ]
    }
   ],
   "source": [
    "item_list = dcco.root.find(\"dcc:administrativeData/dcc:items\", dcco.name_space)\n",
    "elem_dict = {}\n",
    "# iterate through individual items and subelements and return identification type with value\n",
    "for elem in item_list.iter(tag='{' + dcco.name_space['dcc'] + '}' + 'identifications'):\n",
    "    print(elem)\n",
    "    elem_dict=etree_to_dict(elem)"
   ]
  },
  {
   "cell_type": "code",
   "execution_count": 33,
   "id": "9a2052f2",
   "metadata": {},
   "outputs": [
    {
     "data": {
      "text/plain": [
       "[<Element '{https://ptb.de/dcc}name' at 0x0000024E16358900>,\n",
       " <Element '{https://ptb.de/dcc}item' at 0x0000024E16358AE0>]"
      ]
     },
     "execution_count": 33,
     "metadata": {},
     "output_type": "execute_result"
    }
   ],
   "source": [
    "dcco.root.find(\"dcc:administrativeData/dcc:items\", dcco.name_space)"
   ]
  },
  {
   "cell_type": "code",
   "execution_count": 26,
   "id": "6a2ad8ce",
   "metadata": {},
   "outputs": [
    {
     "data": {
      "text/plain": [
       "<Element '{https://ptb.de/dcc}items' at 0x0000024E163588B0>"
      ]
     },
     "execution_count": 26,
     "metadata": {},
     "output_type": "execute_result"
    }
   ],
   "source": []
  },
  {
   "cell_type": "code",
   "execution_count": 35,
   "id": "75f3aa28",
   "metadata": {},
   "outputs": [
    {
     "data": {
      "text/plain": [
       "{'identifications': {'identification': {'issuer': 'manufacturer',\n",
       "   'value': 'Si28kg_03_a',\n",
       "   'description': {'content': [{'@lang': 'de', '#text': 'Kennnummer'},\n",
       "     {'@lang': 'en', '#text': 'Serial No.'}]}}}}"
      ]
     },
     "execution_count": 35,
     "metadata": {},
     "output_type": "execute_result"
    }
   ],
   "source": [
    "elem_dict"
   ]
  },
  {
   "cell_type": "code",
   "execution_count": 45,
   "id": "757f6b6e",
   "metadata": {},
   "outputs": [],
   "source": [
    "id_list = dcco.root.find(\"dcc:administrativeData/dcc:items/dcc:item/dcc:identifications\", dcco.name_space)"
   ]
  },
  {
   "cell_type": "code",
   "execution_count": 47,
   "id": "b7f6ca68",
   "metadata": {},
   "outputs": [
    {
     "data": {
      "text/plain": [
       "{'identifications': {'identification': {'issuer': 'manufacturer',\n",
       "   'value': 'Si28kg_03_a',\n",
       "   'description': {'content': [{'@lang': 'de', '#text': 'Kennnummer'},\n",
       "     {'@lang': 'en', '#text': 'Serial No.'}]}}}}"
      ]
     },
     "execution_count": 47,
     "metadata": {},
     "output_type": "execute_result"
    }
   ],
   "source": [
    "etree_to_dict(id_list)"
   ]
  },
  {
   "cell_type": "code",
   "execution_count": null,
   "id": "9a669be9",
   "metadata": {},
   "outputs": [],
   "source": []
  }
 ],
 "metadata": {
  "kernelspec": {
   "display_name": "Python 3",
   "language": "python",
   "name": "python3"
  },
  "language_info": {
   "codemirror_mode": {
    "name": "ipython",
    "version": 3
   },
   "file_extension": ".py",
   "mimetype": "text/x-python",
   "name": "python",
   "nbconvert_exporter": "python",
   "pygments_lexer": "ipython3",
   "version": "3.8.3"
  }
 },
 "nbformat": 4,
 "nbformat_minor": 5
}
